{
 "cells": [
  {
   "cell_type": "markdown",
   "id": "299ed06d",
   "metadata": {},
   "source": [
    "# Sentiment Analysis of Elon Musk's tweets: The effect on Tesla's stocks"
   ]
  },
  {
   "cell_type": "markdown",
   "id": "4aba60e5",
   "metadata": {},
   "source": [
    "The main aim of this project is to investigate if there's a correlation between any company owner's tweets; be it positive or negative, and the effect on their company's stocks.   \n",
    "In this case, we're using Elon Musk and his Tesla company from 2022-07-25 to 2022-07-31 (present) as our use case.     \n",
    "   \n",
    "For our analysis to be more reasonable in checking the effect of tweets against stocks, the stocks data used were for exactly 10 minutes after Elon made the tweets. Thereby giving others time to cause changes in the stocks or not.\n",
    "\n",
    "\n",
    "To perform this analysis, we've built two bots; \n",
    "- first one is a twitter bot to pull Elon Musk's tweets from Twitter. You can check out the codefile 'twitter_bot.py'\n",
    "- second one is a stocks bot that pulls Tesla's stocks data from Yahoo Finance. You can check out the codefile 'tesla_stocks_bot.py'\n",
    "\n",
    "The data is specifically for a duration of a week; this is because the only available stocks data per minute from the Yahoo Finance API only covers a week."
   ]
  },
  {
   "cell_type": "markdown",
   "id": "5c71d709",
   "metadata": {},
   "source": [
    "### Run the twitter bot"
   ]
  },
  {
   "cell_type": "code",
   "execution_count": 1,
   "id": "b1eb7184",
   "metadata": {},
   "outputs": [],
   "source": [
    "#%run twitter_bot.py"
   ]
  },
  {
   "cell_type": "markdown",
   "id": "effea691",
   "metadata": {},
   "source": [
    " "
   ]
  },
  {
   "cell_type": "markdown",
   "id": "ef970f2a",
   "metadata": {},
   "source": [
    "### Let's load the csv file of the tweets that the bot pulled"
   ]
  },
  {
   "cell_type": "code",
   "execution_count": 2,
   "id": "33648353",
   "metadata": {},
   "outputs": [],
   "source": [
    "import pandas as pd"
   ]
  },
  {
   "cell_type": "code",
   "execution_count": 3,
   "id": "8c713660",
   "metadata": {},
   "outputs": [
    {
     "data": {
      "text/html": [
       "<div>\n",
       "<style scoped>\n",
       "    .dataframe tbody tr th:only-of-type {\n",
       "        vertical-align: middle;\n",
       "    }\n",
       "\n",
       "    .dataframe tbody tr th {\n",
       "        vertical-align: top;\n",
       "    }\n",
       "\n",
       "    .dataframe thead th {\n",
       "        text-align: right;\n",
       "    }\n",
       "</style>\n",
       "<table border=\"1\" class=\"dataframe\">\n",
       "  <thead>\n",
       "    <tr style=\"text-align: right;\">\n",
       "      <th></th>\n",
       "      <th>Date</th>\n",
       "      <th>Tweet</th>\n",
       "    </tr>\n",
       "  </thead>\n",
       "  <tbody>\n",
       "    <tr>\n",
       "      <th>0</th>\n",
       "      <td>2022-07-31 22:38:29+00:00</td>\n",
       "      <td>@dcherring 👍</td>\n",
       "    </tr>\n",
       "    <tr>\n",
       "      <th>1</th>\n",
       "      <td>2022-07-31 22:37:39+00:00</td>\n",
       "      <td>@dogeofficialceo https://t.co/QMyM1H0Z5y</td>\n",
       "    </tr>\n",
       "    <tr>\n",
       "      <th>2</th>\n",
       "      <td>2022-07-31 22:32:36+00:00</td>\n",
       "      <td>If our reality is actually an alien soap opera...</td>\n",
       "    </tr>\n",
       "    <tr>\n",
       "      <th>3</th>\n",
       "      <td>2022-07-31 21:39:40+00:00</td>\n",
       "      <td>@WholeMarsBlog 🤣</td>\n",
       "    </tr>\n",
       "    <tr>\n",
       "      <th>4</th>\n",
       "      <td>2022-07-31 14:22:14+00:00</td>\n",
       "      <td>Maybe free some people in jail for weed here t...</td>\n",
       "    </tr>\n",
       "    <tr>\n",
       "      <th>...</th>\n",
       "      <td>...</td>\n",
       "      <td>...</td>\n",
       "    </tr>\n",
       "    <tr>\n",
       "      <th>76</th>\n",
       "      <td>2022-07-25 02:24:00+00:00</td>\n",
       "      <td>@heydave7 @WholeMarsBlog @WSJ WSJ has run so m...</td>\n",
       "    </tr>\n",
       "    <tr>\n",
       "      <th>77</th>\n",
       "      <td>2022-07-25 02:09:07+00:00</td>\n",
       "      <td>@WholeMarsBlog Haven’t even had sex in ages (s...</td>\n",
       "    </tr>\n",
       "    <tr>\n",
       "      <th>78</th>\n",
       "      <td>2022-07-25 02:07:14+00:00</td>\n",
       "      <td>@TeslaHype @WholeMarsBlog Yeah, the character ...</td>\n",
       "    </tr>\n",
       "    <tr>\n",
       "      <th>79</th>\n",
       "      <td>2022-07-25 01:59:31+00:00</td>\n",
       "      <td>@WholeMarsBlog This is total bs. Sergey and I ...</td>\n",
       "    </tr>\n",
       "    <tr>\n",
       "      <th>80</th>\n",
       "      <td>2022-07-25 01:55:25+00:00</td>\n",
       "      <td>Ironic that Disney would disparage an entire c...</td>\n",
       "    </tr>\n",
       "  </tbody>\n",
       "</table>\n",
       "<p>81 rows × 2 columns</p>\n",
       "</div>"
      ],
      "text/plain": [
       "                         Date  \\\n",
       "0   2022-07-31 22:38:29+00:00   \n",
       "1   2022-07-31 22:37:39+00:00   \n",
       "2   2022-07-31 22:32:36+00:00   \n",
       "3   2022-07-31 21:39:40+00:00   \n",
       "4   2022-07-31 14:22:14+00:00   \n",
       "..                        ...   \n",
       "76  2022-07-25 02:24:00+00:00   \n",
       "77  2022-07-25 02:09:07+00:00   \n",
       "78  2022-07-25 02:07:14+00:00   \n",
       "79  2022-07-25 01:59:31+00:00   \n",
       "80  2022-07-25 01:55:25+00:00   \n",
       "\n",
       "                                                Tweet  \n",
       "0                                        @dcherring 👍  \n",
       "1            @dogeofficialceo https://t.co/QMyM1H0Z5y  \n",
       "2   If our reality is actually an alien soap opera...  \n",
       "3                                    @WholeMarsBlog 🤣  \n",
       "4   Maybe free some people in jail for weed here t...  \n",
       "..                                                ...  \n",
       "76  @heydave7 @WholeMarsBlog @WSJ WSJ has run so m...  \n",
       "77  @WholeMarsBlog Haven’t even had sex in ages (s...  \n",
       "78  @TeslaHype @WholeMarsBlog Yeah, the character ...  \n",
       "79  @WholeMarsBlog This is total bs. Sergey and I ...  \n",
       "80  Ironic that Disney would disparage an entire c...  \n",
       "\n",
       "[81 rows x 2 columns]"
      ]
     },
     "execution_count": 3,
     "metadata": {},
     "output_type": "execute_result"
    }
   ],
   "source": [
    "elon_tweets = pd.read_csv('data/elons_tweets.csv', usecols = ['Date', 'Tweet'])\n",
    "\n",
    "elon_tweets"
   ]
  },
  {
   "cell_type": "markdown",
   "id": "50ea770d",
   "metadata": {},
   "source": [
    "From this, Taking a peek at the tweets showed that we have the complete date range we specified.   \n",
    "And also that the tweets data aren't clean. We will have to perform data cleaning and extraction to get cleaner tweets   \n",
    "\n",
    "We'll start by checking for null values"
   ]
  },
  {
   "cell_type": "code",
   "execution_count": 4,
   "id": "8767883c",
   "metadata": {},
   "outputs": [
    {
     "data": {
      "text/plain": [
       "Date     0\n",
       "Tweet    0\n",
       "dtype: int64"
      ]
     },
     "execution_count": 4,
     "metadata": {},
     "output_type": "execute_result"
    }
   ],
   "source": [
    "elon_tweets.isnull().sum()"
   ]
  },
  {
   "cell_type": "markdown",
   "id": "58ad7c1b",
   "metadata": {},
   "source": [
    "Since there's no null values, we're good to go.   \n",
    "\n",
    "The next step is to remove the @tags, links (http...), #hashtags and remove all other characters that aren't letters such as emojis, + and others, since we're to work on sentiment analysis whose most important input are the words (letters)"
   ]
  },
  {
   "cell_type": "markdown",
   "id": "58872eb0",
   "metadata": {},
   "source": [
    "### Preprocessing the tweets"
   ]
  },
  {
   "cell_type": "code",
   "execution_count": 5,
   "id": "af33e192",
   "metadata": {},
   "outputs": [],
   "source": [
    "import preprocessor as tweet_preprocesor\n",
    "import re\n",
    "\n",
    "from nltk.corpus import stopwords"
   ]
  },
  {
   "cell_type": "code",
   "execution_count": 6,
   "id": "11b2f7bc",
   "metadata": {},
   "outputs": [],
   "source": [
    "#Remove all the #hashtags and keep the word, like #elonmusk -> elonmusk\n",
    "elon_tweets['Tweet'] = elon_tweets['Tweet'].replace('#', '', regex = True)"
   ]
  },
  {
   "cell_type": "markdown",
   "id": "4b8bbdf3",
   "metadata": {},
   "source": [
    " "
   ]
  },
  {
   "cell_type": "code",
   "execution_count": 7,
   "id": "bd750825",
   "metadata": {},
   "outputs": [],
   "source": [
    "#Then we use the tweet_preprocessor to remove urls, mentions, reserved words, emojis, smileys and numbers\n",
    "elon_tweets['Tweet'] = elon_tweets['Tweet'].apply(tweet_preprocesor.clean)"
   ]
  },
  {
   "cell_type": "code",
   "execution_count": 8,
   "id": "1e5661ca",
   "metadata": {},
   "outputs": [
    {
     "data": {
      "text/plain": [
       "0                                                      \n",
       "1                                                      \n",
       "2     If our reality is actually an alien soap opera...\n",
       "3                                                      \n",
       "4     Maybe free some people in jail for weed here too?\n",
       "                            ...                        \n",
       "76    WSJ has run so many bs hit pieces on me and Te...\n",
       "77                   Havent even had sex in ages (sigh)\n",
       "78    Yeah, the character assassination attacks have...\n",
       "79    This is total bs. Sergey and I are friends and...\n",
       "80    Ironic that Disney would disparage an entire c...\n",
       "Name: Tweet, Length: 81, dtype: object"
      ]
     },
     "execution_count": 8,
     "metadata": {},
     "output_type": "execute_result"
    }
   ],
   "source": [
    "#Now taking a look at the new tweets column\n",
    "elon_tweets['Tweet']"
   ]
  },
  {
   "cell_type": "markdown",
   "id": "438e4236",
   "metadata": {},
   "source": [
    "We can now observe that all of the urls, mentions, reserved words, emojis, smileys and numbers have been removed.   \n",
    "\n",
    "\n",
    "But we can still observe the punctuation, so we'll remove that"
   ]
  },
  {
   "cell_type": "code",
   "execution_count": 9,
   "id": "017fe6c3",
   "metadata": {},
   "outputs": [],
   "source": [
    "elon_tweets['Tweet'] = elon_tweets['Tweet'].replace(r'[^\\w\\s]+', '', regex = True)"
   ]
  },
  {
   "cell_type": "code",
   "execution_count": 10,
   "id": "09b531b6",
   "metadata": {},
   "outputs": [
    {
     "data": {
      "text/plain": [
       "0                                                      \n",
       "1                                                      \n",
       "2     If our reality is actually an alien soap opera...\n",
       "3                                                      \n",
       "4      Maybe free some people in jail for weed here too\n",
       "                            ...                        \n",
       "76    WSJ has run so many bs hit pieces on me and Te...\n",
       "77                     Havent even had sex in ages sigh\n",
       "78    Yeah the character assassination attacks have ...\n",
       "79    This is total bs Sergey and I are friends and ...\n",
       "80    Ironic that Disney would disparage an entire c...\n",
       "Name: Tweet, Length: 81, dtype: object"
      ]
     },
     "execution_count": 10,
     "metadata": {},
     "output_type": "execute_result"
    }
   ],
   "source": [
    "#Checking the tweets column again\n",
    "elon_tweets['Tweet']"
   ]
  },
  {
   "cell_type": "markdown",
   "id": "f1b76114",
   "metadata": {},
   "source": [
    " "
   ]
  },
  {
   "cell_type": "markdown",
   "id": "23bdd890",
   "metadata": {},
   "source": [
    "We can now remove stopwords"
   ]
  },
  {
   "cell_type": "code",
   "execution_count": 11,
   "id": "40288db4",
   "metadata": {},
   "outputs": [],
   "source": [
    "stop_words = stopwords.words('english')\n",
    "pattern = re.compile(r'\\b(' + r'|'.join(stop_words) + r')\\b\\s*')   #Create a regular expression composing of all the English stopwords\n",
    "\n",
    "elon_tweets['Tweet'] = elon_tweets['Tweet'].apply(lambda x: pattern.sub('', x))\n",
    "#Replace the stop words with empty space"
   ]
  },
  {
   "cell_type": "code",
   "execution_count": 12,
   "id": "a2ccefdc",
   "metadata": {},
   "outputs": [
    {
     "data": {
      "text/plain": [
       "0                                                      \n",
       "1                                                      \n",
       "2     If reality actually alien soap opera ratings w...\n",
       "3                                                      \n",
       "4                          Maybe free people jail weed \n",
       "                            ...                        \n",
       "76    WSJ run many bs hit pieces Tesla Ive lost coun...\n",
       "77                            Havent even sex ages sigh\n",
       "78    Yeah character assassination attacks reached n...\n",
       "79    This total bs Sergey I friends party together ...\n",
       "80    Ironic Disney would disparage entire class rod...\n",
       "Name: Tweet, Length: 81, dtype: object"
      ]
     },
     "execution_count": 12,
     "metadata": {},
     "output_type": "execute_result"
    }
   ],
   "source": [
    "#Taking a look at the tweets now\n",
    "elon_tweets['Tweet']"
   ]
  },
  {
   "cell_type": "code",
   "execution_count": 13,
   "id": "e964f66c",
   "metadata": {},
   "outputs": [],
   "source": [
    "#The dataset is way neater now, but there are more whitespaces than usual in some rows\n",
    "elon_tweets['Tweet'] = elon_tweets['Tweet'].apply(lambda x: ' '.join(x.split()))"
   ]
  },
  {
   "cell_type": "code",
   "execution_count": 14,
   "id": "d7baca43",
   "metadata": {},
   "outputs": [
    {
     "data": {
      "text/plain": [
       "0"
      ]
     },
     "execution_count": 14,
     "metadata": {},
     "output_type": "execute_result"
    }
   ],
   "source": [
    "#Yeah, so the data is way cleaner now, but some rows are completely empty, like row[[0, 1, 3...]].\n",
    "#We'll remove empty columns like that.\n",
    "elon_tweets['Tweet'].isnull().sum()"
   ]
  },
  {
   "cell_type": "code",
   "execution_count": 15,
   "id": "fd7ceb4c",
   "metadata": {},
   "outputs": [
    {
     "data": {
      "text/plain": [
       "10"
      ]
     },
     "execution_count": 15,
     "metadata": {},
     "output_type": "execute_result"
    }
   ],
   "source": [
    "#It doesn't recognize the empty row, meaning there's probably a value like '' which isn't np.nan\n",
    "(elon_tweets['Tweet'] == '').sum()"
   ]
  },
  {
   "cell_type": "code",
   "execution_count": 16,
   "id": "164f90a8",
   "metadata": {},
   "outputs": [
    {
     "data": {
      "text/html": [
       "<div>\n",
       "<style scoped>\n",
       "    .dataframe tbody tr th:only-of-type {\n",
       "        vertical-align: middle;\n",
       "    }\n",
       "\n",
       "    .dataframe tbody tr th {\n",
       "        vertical-align: top;\n",
       "    }\n",
       "\n",
       "    .dataframe thead th {\n",
       "        text-align: right;\n",
       "    }\n",
       "</style>\n",
       "<table border=\"1\" class=\"dataframe\">\n",
       "  <thead>\n",
       "    <tr style=\"text-align: right;\">\n",
       "      <th></th>\n",
       "      <th>Date</th>\n",
       "      <th>Tweet</th>\n",
       "    </tr>\n",
       "  </thead>\n",
       "  <tbody>\n",
       "    <tr>\n",
       "      <th>0</th>\n",
       "      <td>2022-07-31 22:32:36+00:00</td>\n",
       "      <td>If reality actually alien soap opera ratings w...</td>\n",
       "    </tr>\n",
       "    <tr>\n",
       "      <th>1</th>\n",
       "      <td>2022-07-31 14:22:14+00:00</td>\n",
       "      <td>Maybe free people jail weed</td>\n",
       "    </tr>\n",
       "    <tr>\n",
       "      <th>2</th>\n",
       "      <td>2022-07-31 14:11:35+00:00</td>\n",
       "      <td>Good thread</td>\n",
       "    </tr>\n",
       "    <tr>\n",
       "      <th>3</th>\n",
       "      <td>2022-07-31 02:28:06+00:00</td>\n",
       "      <td>Sigh</td>\n",
       "    </tr>\n",
       "    <tr>\n",
       "      <th>4</th>\n",
       "      <td>2022-07-31 02:27:16+00:00</td>\n",
       "      <td>Off Races set Harley Quinn</td>\n",
       "    </tr>\n",
       "    <tr>\n",
       "      <th>...</th>\n",
       "      <td>...</td>\n",
       "      <td>...</td>\n",
       "    </tr>\n",
       "    <tr>\n",
       "      <th>66</th>\n",
       "      <td>2022-07-25 02:24:00+00:00</td>\n",
       "      <td>WSJ run many bs hit pieces Tesla Ive lost coun...</td>\n",
       "    </tr>\n",
       "    <tr>\n",
       "      <th>67</th>\n",
       "      <td>2022-07-25 02:09:07+00:00</td>\n",
       "      <td>Havent even sex ages sigh</td>\n",
       "    </tr>\n",
       "    <tr>\n",
       "      <th>68</th>\n",
       "      <td>2022-07-25 02:07:14+00:00</td>\n",
       "      <td>Yeah character assassination attacks reached n...</td>\n",
       "    </tr>\n",
       "    <tr>\n",
       "      <th>69</th>\n",
       "      <td>2022-07-25 01:59:31+00:00</td>\n",
       "      <td>This total bs Sergey I friends party together ...</td>\n",
       "    </tr>\n",
       "    <tr>\n",
       "      <th>70</th>\n",
       "      <td>2022-07-25 01:55:25+00:00</td>\n",
       "      <td>Ironic Disney would disparage entire class rod...</td>\n",
       "    </tr>\n",
       "  </tbody>\n",
       "</table>\n",
       "<p>71 rows × 2 columns</p>\n",
       "</div>"
      ],
      "text/plain": [
       "                         Date  \\\n",
       "0   2022-07-31 22:32:36+00:00   \n",
       "1   2022-07-31 14:22:14+00:00   \n",
       "2   2022-07-31 14:11:35+00:00   \n",
       "3   2022-07-31 02:28:06+00:00   \n",
       "4   2022-07-31 02:27:16+00:00   \n",
       "..                        ...   \n",
       "66  2022-07-25 02:24:00+00:00   \n",
       "67  2022-07-25 02:09:07+00:00   \n",
       "68  2022-07-25 02:07:14+00:00   \n",
       "69  2022-07-25 01:59:31+00:00   \n",
       "70  2022-07-25 01:55:25+00:00   \n",
       "\n",
       "                                                Tweet  \n",
       "0   If reality actually alien soap opera ratings w...  \n",
       "1                         Maybe free people jail weed  \n",
       "2                                         Good thread  \n",
       "3                                                Sigh  \n",
       "4                          Off Races set Harley Quinn  \n",
       "..                                                ...  \n",
       "66  WSJ run many bs hit pieces Tesla Ive lost coun...  \n",
       "67                          Havent even sex ages sigh  \n",
       "68  Yeah character assassination attacks reached n...  \n",
       "69  This total bs Sergey I friends party together ...  \n",
       "70  Ironic Disney would disparage entire class rod...  \n",
       "\n",
       "[71 rows x 2 columns]"
      ]
     },
     "execution_count": 16,
     "metadata": {},
     "output_type": "execute_result"
    }
   ],
   "source": [
    "#So, working with only tweets that have real tweets in them after the cleaning\n",
    "elon_tweets = elon_tweets[elon_tweets['Tweet'] != ''].reset_index().drop('index', axis = 1)\n",
    "\n",
    "elon_tweets"
   ]
  },
  {
   "cell_type": "markdown",
   "id": "d8b66be6",
   "metadata": {},
   "source": [
    " "
   ]
  },
  {
   "cell_type": "markdown",
   "id": "d4116548",
   "metadata": {},
   "source": [
    "So, we're good to go with cleaning the tweets.   \n",
    "\n",
    "Let's now build the Basic sentiment analyzer and the NLTK Vader sentiment analyzer   \n",
    "\n",
    "### Starting with the Basic sentiment analyzer that uses a custom bag of words compiled by Minqing Hu and Bing Liu"
   ]
  },
  {
   "cell_type": "code",
   "execution_count": 17,
   "id": "fcccdcd0",
   "metadata": {},
   "outputs": [],
   "source": [
    "class BasicSentimentAnalyzer():\n",
    "    \"\"\"This analyzer uses a bag of words containing positive and negative words and thereby produces the sentiment of that text depending on the score\"\"\"\n",
    "    def __init__(self):\n",
    "        self.all_words_with_scores = {}   #Initialize a dictionary variable which will hold all the words with their scores\n",
    "        \n",
    "        \n",
    "    def read_pos_neg_path(self, pos_words_path, neg_words_path):\n",
    "        \"\"\"The function reads the words and scores them according to the file path, 1 for positive words and -1 for negative words which is then summed or \n",
    "        subtracted to analyze the sentiment of any sentence\"\"\"\n",
    "        with open(pos_words_path, 'r') as p_words:\n",
    "            positive_words = [line.strip() for line in p_words]   #Read the words in the positive words file line by line\n",
    "        with open(neg_words_path, 'r') as n_words:\n",
    "            negative_words = [line.strip() for line in n_words]   #Read the words in the negative words file line by line\n",
    "            \n",
    "        for p_word in positive_words:\n",
    "            if p_word.startswith(';') or p_word == '':\n",
    "                continue   #This is to skip the documentation in the text file\n",
    "            \n",
    "            self.all_words_with_scores[p_word] = 1   #Set the score for positive words to 1\n",
    "            \n",
    "        for n_word in negative_words:\n",
    "            if n_word.startswith(';') or n_word == '':\n",
    "                continue   #This is to skip the documentation in the text file\n",
    "            \n",
    "            self.all_words_with_scores[n_word] = -1   #Set the score for negative words to -1\n",
    "        \n",
    "        return self\n",
    "    \n",
    "    def classify_new_text(self, new_text):\n",
    "        \"\"\"Classifies a text and returns a value if Positive, Negative or Neutral depending on the sentiment of the text\"\"\"\n",
    "        new_text = new_text.lower().split(' ')   \n",
    "        #Change the text to lowercase since the text to be compared to is in lowercase, and split to get the individual word\n",
    "        \n",
    "        sentiment_value = 0\n",
    "        for text in new_text:\n",
    "            if text in self.all_words_with_scores:   #If the text in the text files, add or subtract the score value from the sentiment value\n",
    "                text_score = self.all_words_with_scores[text]\n",
    "                sentiment_value += text_score\n",
    "                \n",
    "        #Return 'positive, negative or neutral' depending on the final sentiment score\n",
    "#         if sentiment_value == 0:\n",
    "#             return 'Neutral'\n",
    "#         elif sentiment_value < 0:\n",
    "#             return 'Negative'\n",
    "#         elif sentiment_value > 0:\n",
    "#             return 'Positive'\n",
    "\n",
    "        #We're returning the sentiment score, not categories like positive, negative and neutral because it's easier and more appealing visually to plot \n",
    "        #a curve with the numbers against the stock values compared to rigid categories\n",
    "        return sentiment_value   "
   ]
  },
  {
   "cell_type": "code",
   "execution_count": 18,
   "id": "da2ccf36",
   "metadata": {},
   "outputs": [],
   "source": [
    "#Load the sentiment analyzer\n",
    "sentiment_analyzer = BasicSentimentAnalyzer().read_pos_neg_path('data/positive-bag-of-words.txt', 'data/negative-bag-of-words.txt')"
   ]
  },
  {
   "cell_type": "code",
   "execution_count": 19,
   "id": "49b5adbb",
   "metadata": {},
   "outputs": [],
   "source": [
    "#Add the BSA_sentiments to the original DataFrame where BSA is the BasicSentimentAnalyzer\n",
    "elon_tweets['BSA_sentiments'] = elon_tweets['Tweet'].apply(sentiment_analyzer.classify_new_text)"
   ]
  },
  {
   "cell_type": "code",
   "execution_count": 20,
   "id": "d9ad6d1f",
   "metadata": {},
   "outputs": [
    {
     "data": {
      "text/html": [
       "<div>\n",
       "<style scoped>\n",
       "    .dataframe tbody tr th:only-of-type {\n",
       "        vertical-align: middle;\n",
       "    }\n",
       "\n",
       "    .dataframe tbody tr th {\n",
       "        vertical-align: top;\n",
       "    }\n",
       "\n",
       "    .dataframe thead th {\n",
       "        text-align: right;\n",
       "    }\n",
       "</style>\n",
       "<table border=\"1\" class=\"dataframe\">\n",
       "  <thead>\n",
       "    <tr style=\"text-align: right;\">\n",
       "      <th></th>\n",
       "      <th>Date</th>\n",
       "      <th>Tweet</th>\n",
       "      <th>BSA_sentiments</th>\n",
       "    </tr>\n",
       "  </thead>\n",
       "  <tbody>\n",
       "    <tr>\n",
       "      <th>0</th>\n",
       "      <td>2022-07-31 22:32:36+00:00</td>\n",
       "      <td>If reality actually alien soap opera ratings w...</td>\n",
       "      <td>0</td>\n",
       "    </tr>\n",
       "    <tr>\n",
       "      <th>1</th>\n",
       "      <td>2022-07-31 14:22:14+00:00</td>\n",
       "      <td>Maybe free people jail weed</td>\n",
       "      <td>0</td>\n",
       "    </tr>\n",
       "    <tr>\n",
       "      <th>2</th>\n",
       "      <td>2022-07-31 14:11:35+00:00</td>\n",
       "      <td>Good thread</td>\n",
       "      <td>1</td>\n",
       "    </tr>\n",
       "    <tr>\n",
       "      <th>3</th>\n",
       "      <td>2022-07-31 02:28:06+00:00</td>\n",
       "      <td>Sigh</td>\n",
       "      <td>0</td>\n",
       "    </tr>\n",
       "    <tr>\n",
       "      <th>4</th>\n",
       "      <td>2022-07-31 02:27:16+00:00</td>\n",
       "      <td>Off Races set Harley Quinn</td>\n",
       "      <td>0</td>\n",
       "    </tr>\n",
       "    <tr>\n",
       "      <th>...</th>\n",
       "      <td>...</td>\n",
       "      <td>...</td>\n",
       "      <td>...</td>\n",
       "    </tr>\n",
       "    <tr>\n",
       "      <th>66</th>\n",
       "      <td>2022-07-25 02:24:00+00:00</td>\n",
       "      <td>WSJ run many bs hit pieces Tesla Ive lost coun...</td>\n",
       "      <td>-3</td>\n",
       "    </tr>\n",
       "    <tr>\n",
       "      <th>67</th>\n",
       "      <td>2022-07-25 02:09:07+00:00</td>\n",
       "      <td>Havent even sex ages sigh</td>\n",
       "      <td>0</td>\n",
       "    </tr>\n",
       "    <tr>\n",
       "      <th>68</th>\n",
       "      <td>2022-07-25 02:07:14+00:00</td>\n",
       "      <td>Yeah character assassination attacks reached n...</td>\n",
       "      <td>-1</td>\n",
       "    </tr>\n",
       "    <tr>\n",
       "      <th>69</th>\n",
       "      <td>2022-07-25 01:59:31+00:00</td>\n",
       "      <td>This total bs Sergey I friends party together ...</td>\n",
       "      <td>0</td>\n",
       "    </tr>\n",
       "    <tr>\n",
       "      <th>70</th>\n",
       "      <td>2022-07-25 01:55:25+00:00</td>\n",
       "      <td>Ironic Disney would disparage entire class rod...</td>\n",
       "      <td>-3</td>\n",
       "    </tr>\n",
       "  </tbody>\n",
       "</table>\n",
       "<p>71 rows × 3 columns</p>\n",
       "</div>"
      ],
      "text/plain": [
       "                         Date  \\\n",
       "0   2022-07-31 22:32:36+00:00   \n",
       "1   2022-07-31 14:22:14+00:00   \n",
       "2   2022-07-31 14:11:35+00:00   \n",
       "3   2022-07-31 02:28:06+00:00   \n",
       "4   2022-07-31 02:27:16+00:00   \n",
       "..                        ...   \n",
       "66  2022-07-25 02:24:00+00:00   \n",
       "67  2022-07-25 02:09:07+00:00   \n",
       "68  2022-07-25 02:07:14+00:00   \n",
       "69  2022-07-25 01:59:31+00:00   \n",
       "70  2022-07-25 01:55:25+00:00   \n",
       "\n",
       "                                                Tweet  BSA_sentiments  \n",
       "0   If reality actually alien soap opera ratings w...               0  \n",
       "1                         Maybe free people jail weed               0  \n",
       "2                                         Good thread               1  \n",
       "3                                                Sigh               0  \n",
       "4                          Off Races set Harley Quinn               0  \n",
       "..                                                ...             ...  \n",
       "66  WSJ run many bs hit pieces Tesla Ive lost coun...              -3  \n",
       "67                          Havent even sex ages sigh               0  \n",
       "68  Yeah character assassination attacks reached n...              -1  \n",
       "69  This total bs Sergey I friends party together ...               0  \n",
       "70  Ironic Disney would disparage entire class rod...              -3  \n",
       "\n",
       "[71 rows x 3 columns]"
      ]
     },
     "execution_count": 20,
     "metadata": {},
     "output_type": "execute_result"
    }
   ],
   "source": [
    "elon_tweets"
   ]
  },
  {
   "cell_type": "markdown",
   "id": "c1b9cd52",
   "metadata": {},
   "source": [
    " "
   ]
  },
  {
   "cell_type": "markdown",
   "id": "00922fbb",
   "metadata": {},
   "source": [
    "### Onto the NLTK Sentiment Analyzer built on VADER (Valence Aware Dictionary for sEntiment Reasoning)"
   ]
  },
  {
   "cell_type": "code",
   "execution_count": 21,
   "id": "e1cffacd",
   "metadata": {},
   "outputs": [],
   "source": [
    "from nltk.sentiment.vader import SentimentIntensityAnalyzer"
   ]
  },
  {
   "cell_type": "code",
   "execution_count": 22,
   "id": "796c55d4",
   "metadata": {},
   "outputs": [],
   "source": [
    "class NLTKVaderSentimentAnalyzer(SentimentIntensityAnalyzer):\n",
    "    def classify_new_text(self, new_text):\n",
    "        score = self.polarity_scores(new_text)['compound']   \n",
    "        #Calculate the polarity score of the text using Vader\n",
    "        \n",
    "#         if score > 0.2:\n",
    "#             return 'Positive'\n",
    "#         elif score < -0.2:\n",
    "#             return 'Negative'\n",
    "#         else:\n",
    "#             return 'Neutral'\n",
    "\n",
    "        #We're returning the sentiment score, not categories like positive, negative and neutral because it's easier and more appealing visually to plot \n",
    "        #a curve with the numbers against the stock values compared to rigid categories\n",
    "        return score"
   ]
  },
  {
   "cell_type": "code",
   "execution_count": 23,
   "id": "e38fc2ed",
   "metadata": {},
   "outputs": [],
   "source": [
    "#Initialize the sentiment analyzer\n",
    "vader_s_analyzer = NLTKVaderSentimentAnalyzer()"
   ]
  },
  {
   "cell_type": "code",
   "execution_count": 24,
   "id": "23e4a246",
   "metadata": {},
   "outputs": [],
   "source": [
    "#Add the vader_sentiments to the original DataFrame\n",
    "elon_tweets['vader_sentiments'] = elon_tweets['Tweet'].apply(vader_s_analyzer.classify_new_text)"
   ]
  },
  {
   "cell_type": "code",
   "execution_count": 25,
   "id": "7d6c01be",
   "metadata": {},
   "outputs": [
    {
     "data": {
      "text/html": [
       "<div>\n",
       "<style scoped>\n",
       "    .dataframe tbody tr th:only-of-type {\n",
       "        vertical-align: middle;\n",
       "    }\n",
       "\n",
       "    .dataframe tbody tr th {\n",
       "        vertical-align: top;\n",
       "    }\n",
       "\n",
       "    .dataframe thead th {\n",
       "        text-align: right;\n",
       "    }\n",
       "</style>\n",
       "<table border=\"1\" class=\"dataframe\">\n",
       "  <thead>\n",
       "    <tr style=\"text-align: right;\">\n",
       "      <th></th>\n",
       "      <th>Date</th>\n",
       "      <th>Tweet</th>\n",
       "      <th>BSA_sentiments</th>\n",
       "      <th>vader_sentiments</th>\n",
       "    </tr>\n",
       "  </thead>\n",
       "  <tbody>\n",
       "    <tr>\n",
       "      <th>0</th>\n",
       "      <td>2022-07-31 22:32:36+00:00</td>\n",
       "      <td>If reality actually alien soap opera ratings w...</td>\n",
       "      <td>0</td>\n",
       "      <td>0.0000</td>\n",
       "    </tr>\n",
       "    <tr>\n",
       "      <th>1</th>\n",
       "      <td>2022-07-31 14:22:14+00:00</td>\n",
       "      <td>Maybe free people jail weed</td>\n",
       "      <td>0</td>\n",
       "      <td>0.5106</td>\n",
       "    </tr>\n",
       "    <tr>\n",
       "      <th>2</th>\n",
       "      <td>2022-07-31 14:11:35+00:00</td>\n",
       "      <td>Good thread</td>\n",
       "      <td>1</td>\n",
       "      <td>0.4404</td>\n",
       "    </tr>\n",
       "    <tr>\n",
       "      <th>3</th>\n",
       "      <td>2022-07-31 02:28:06+00:00</td>\n",
       "      <td>Sigh</td>\n",
       "      <td>0</td>\n",
       "      <td>0.0258</td>\n",
       "    </tr>\n",
       "    <tr>\n",
       "      <th>4</th>\n",
       "      <td>2022-07-31 02:27:16+00:00</td>\n",
       "      <td>Off Races set Harley Quinn</td>\n",
       "      <td>0</td>\n",
       "      <td>0.0000</td>\n",
       "    </tr>\n",
       "    <tr>\n",
       "      <th>...</th>\n",
       "      <td>...</td>\n",
       "      <td>...</td>\n",
       "      <td>...</td>\n",
       "      <td>...</td>\n",
       "    </tr>\n",
       "    <tr>\n",
       "      <th>66</th>\n",
       "      <td>2022-07-25 02:24:00+00:00</td>\n",
       "      <td>WSJ run many bs hit pieces Tesla Ive lost coun...</td>\n",
       "      <td>-3</td>\n",
       "      <td>-0.8126</td>\n",
       "    </tr>\n",
       "    <tr>\n",
       "      <th>67</th>\n",
       "      <td>2022-07-25 02:09:07+00:00</td>\n",
       "      <td>Havent even sex ages sigh</td>\n",
       "      <td>0</td>\n",
       "      <td>0.0258</td>\n",
       "    </tr>\n",
       "    <tr>\n",
       "      <th>68</th>\n",
       "      <td>2022-07-25 02:07:14+00:00</td>\n",
       "      <td>Yeah character assassination attacks reached n...</td>\n",
       "      <td>-1</td>\n",
       "      <td>-0.7650</td>\n",
       "    </tr>\n",
       "    <tr>\n",
       "      <th>69</th>\n",
       "      <td>2022-07-25 01:59:31+00:00</td>\n",
       "      <td>This total bs Sergey I friends party together ...</td>\n",
       "      <td>0</td>\n",
       "      <td>0.5487</td>\n",
       "    </tr>\n",
       "    <tr>\n",
       "      <th>70</th>\n",
       "      <td>2022-07-25 01:55:25+00:00</td>\n",
       "      <td>Ironic Disney would disparage entire class rod...</td>\n",
       "      <td>-3</td>\n",
       "      <td>-0.7579</td>\n",
       "    </tr>\n",
       "  </tbody>\n",
       "</table>\n",
       "<p>71 rows × 4 columns</p>\n",
       "</div>"
      ],
      "text/plain": [
       "                         Date  \\\n",
       "0   2022-07-31 22:32:36+00:00   \n",
       "1   2022-07-31 14:22:14+00:00   \n",
       "2   2022-07-31 14:11:35+00:00   \n",
       "3   2022-07-31 02:28:06+00:00   \n",
       "4   2022-07-31 02:27:16+00:00   \n",
       "..                        ...   \n",
       "66  2022-07-25 02:24:00+00:00   \n",
       "67  2022-07-25 02:09:07+00:00   \n",
       "68  2022-07-25 02:07:14+00:00   \n",
       "69  2022-07-25 01:59:31+00:00   \n",
       "70  2022-07-25 01:55:25+00:00   \n",
       "\n",
       "                                                Tweet  BSA_sentiments  \\\n",
       "0   If reality actually alien soap opera ratings w...               0   \n",
       "1                         Maybe free people jail weed               0   \n",
       "2                                         Good thread               1   \n",
       "3                                                Sigh               0   \n",
       "4                          Off Races set Harley Quinn               0   \n",
       "..                                                ...             ...   \n",
       "66  WSJ run many bs hit pieces Tesla Ive lost coun...              -3   \n",
       "67                          Havent even sex ages sigh               0   \n",
       "68  Yeah character assassination attacks reached n...              -1   \n",
       "69  This total bs Sergey I friends party together ...               0   \n",
       "70  Ironic Disney would disparage entire class rod...              -3   \n",
       "\n",
       "    vader_sentiments  \n",
       "0             0.0000  \n",
       "1             0.5106  \n",
       "2             0.4404  \n",
       "3             0.0258  \n",
       "4             0.0000  \n",
       "..               ...  \n",
       "66           -0.8126  \n",
       "67            0.0258  \n",
       "68           -0.7650  \n",
       "69            0.5487  \n",
       "70           -0.7579  \n",
       "\n",
       "[71 rows x 4 columns]"
      ]
     },
     "execution_count": 25,
     "metadata": {},
     "output_type": "execute_result"
    }
   ],
   "source": [
    "elon_tweets"
   ]
  },
  {
   "cell_type": "markdown",
   "id": "c4207c2a",
   "metadata": {},
   "source": [
    " "
   ]
  },
  {
   "cell_type": "markdown",
   "id": "aa40a2b8",
   "metadata": {},
   "source": [
    "Now that we're done with getting the sentiments of the tweet, both with a basic bag of words and using Natural Language Processing   \n",
    "\n",
    "### We can now move on to run the bot to get Tesla's stocks"
   ]
  },
  {
   "cell_type": "code",
   "execution_count": 26,
   "id": "10f66571",
   "metadata": {},
   "outputs": [],
   "source": [
    "#%run tesla_stocks_bot.py"
   ]
  },
  {
   "cell_type": "markdown",
   "id": "dcc1c6eb",
   "metadata": {},
   "source": [
    "### Let's load the csv file of the stocks that the bot pulled"
   ]
  },
  {
   "cell_type": "code",
   "execution_count": 27,
   "id": "c95efc36",
   "metadata": {},
   "outputs": [],
   "source": [
    "from datetime import datetime, timezone, timedelta"
   ]
  },
  {
   "cell_type": "code",
   "execution_count": 28,
   "id": "75a9d9fb",
   "metadata": {},
   "outputs": [
    {
     "data": {
      "text/html": [
       "<div>\n",
       "<style scoped>\n",
       "    .dataframe tbody tr th:only-of-type {\n",
       "        vertical-align: middle;\n",
       "    }\n",
       "\n",
       "    .dataframe tbody tr th {\n",
       "        vertical-align: top;\n",
       "    }\n",
       "\n",
       "    .dataframe thead th {\n",
       "        text-align: right;\n",
       "    }\n",
       "</style>\n",
       "<table border=\"1\" class=\"dataframe\">\n",
       "  <thead>\n",
       "    <tr style=\"text-align: right;\">\n",
       "      <th></th>\n",
       "      <th>Datetime</th>\n",
       "      <th>Open</th>\n",
       "      <th>High</th>\n",
       "      <th>Low</th>\n",
       "      <th>Close</th>\n",
       "      <th>Adj Close</th>\n",
       "      <th>Volume</th>\n",
       "    </tr>\n",
       "  </thead>\n",
       "  <tbody>\n",
       "    <tr>\n",
       "      <th>0</th>\n",
       "      <td>2022-07-25 09:30:00-04:00</td>\n",
       "      <td>816.650024</td>\n",
       "      <td>816.799988</td>\n",
       "      <td>811.262024</td>\n",
       "      <td>813.510010</td>\n",
       "      <td>813.510010</td>\n",
       "      <td>1109730</td>\n",
       "    </tr>\n",
       "    <tr>\n",
       "      <th>1</th>\n",
       "      <td>2022-07-25 09:31:00-04:00</td>\n",
       "      <td>813.849976</td>\n",
       "      <td>816.799988</td>\n",
       "      <td>812.849976</td>\n",
       "      <td>814.750000</td>\n",
       "      <td>814.750000</td>\n",
       "      <td>217451</td>\n",
       "    </tr>\n",
       "    <tr>\n",
       "      <th>2</th>\n",
       "      <td>2022-07-25 09:32:00-04:00</td>\n",
       "      <td>815.125000</td>\n",
       "      <td>822.440002</td>\n",
       "      <td>814.295593</td>\n",
       "      <td>820.659973</td>\n",
       "      <td>820.659973</td>\n",
       "      <td>268608</td>\n",
       "    </tr>\n",
       "    <tr>\n",
       "      <th>3</th>\n",
       "      <td>2022-07-25 09:33:00-04:00</td>\n",
       "      <td>820.594971</td>\n",
       "      <td>820.890015</td>\n",
       "      <td>816.000122</td>\n",
       "      <td>817.505005</td>\n",
       "      <td>817.505005</td>\n",
       "      <td>205037</td>\n",
       "    </tr>\n",
       "    <tr>\n",
       "      <th>4</th>\n",
       "      <td>2022-07-25 09:34:00-04:00</td>\n",
       "      <td>817.609985</td>\n",
       "      <td>819.989990</td>\n",
       "      <td>813.306396</td>\n",
       "      <td>814.409973</td>\n",
       "      <td>814.409973</td>\n",
       "      <td>179416</td>\n",
       "    </tr>\n",
       "    <tr>\n",
       "      <th>...</th>\n",
       "      <td>...</td>\n",
       "      <td>...</td>\n",
       "      <td>...</td>\n",
       "      <td>...</td>\n",
       "      <td>...</td>\n",
       "      <td>...</td>\n",
       "      <td>...</td>\n",
       "    </tr>\n",
       "    <tr>\n",
       "      <th>1946</th>\n",
       "      <td>2022-07-29 15:56:00-04:00</td>\n",
       "      <td>892.299988</td>\n",
       "      <td>892.299988</td>\n",
       "      <td>891.200012</td>\n",
       "      <td>891.484985</td>\n",
       "      <td>891.484985</td>\n",
       "      <td>178085</td>\n",
       "    </tr>\n",
       "    <tr>\n",
       "      <th>1947</th>\n",
       "      <td>2022-07-29 15:57:00-04:00</td>\n",
       "      <td>891.530029</td>\n",
       "      <td>892.280029</td>\n",
       "      <td>890.510010</td>\n",
       "      <td>890.739990</td>\n",
       "      <td>890.739990</td>\n",
       "      <td>233226</td>\n",
       "    </tr>\n",
       "    <tr>\n",
       "      <th>1948</th>\n",
       "      <td>2022-07-29 15:58:00-04:00</td>\n",
       "      <td>890.739990</td>\n",
       "      <td>890.840027</td>\n",
       "      <td>889.875000</td>\n",
       "      <td>890.289978</td>\n",
       "      <td>890.289978</td>\n",
       "      <td>249277</td>\n",
       "    </tr>\n",
       "    <tr>\n",
       "      <th>1949</th>\n",
       "      <td>2022-07-29 15:59:00-04:00</td>\n",
       "      <td>890.190125</td>\n",
       "      <td>891.520020</td>\n",
       "      <td>890.169983</td>\n",
       "      <td>891.469971</td>\n",
       "      <td>891.469971</td>\n",
       "      <td>285609</td>\n",
       "    </tr>\n",
       "    <tr>\n",
       "      <th>1950</th>\n",
       "      <td>2022-07-29 16:00:00-04:00</td>\n",
       "      <td>891.450012</td>\n",
       "      <td>891.450012</td>\n",
       "      <td>891.450012</td>\n",
       "      <td>891.450012</td>\n",
       "      <td>891.450012</td>\n",
       "      <td>0</td>\n",
       "    </tr>\n",
       "  </tbody>\n",
       "</table>\n",
       "<p>1951 rows × 7 columns</p>\n",
       "</div>"
      ],
      "text/plain": [
       "                       Datetime        Open        High         Low  \\\n",
       "0     2022-07-25 09:30:00-04:00  816.650024  816.799988  811.262024   \n",
       "1     2022-07-25 09:31:00-04:00  813.849976  816.799988  812.849976   \n",
       "2     2022-07-25 09:32:00-04:00  815.125000  822.440002  814.295593   \n",
       "3     2022-07-25 09:33:00-04:00  820.594971  820.890015  816.000122   \n",
       "4     2022-07-25 09:34:00-04:00  817.609985  819.989990  813.306396   \n",
       "...                         ...         ...         ...         ...   \n",
       "1946  2022-07-29 15:56:00-04:00  892.299988  892.299988  891.200012   \n",
       "1947  2022-07-29 15:57:00-04:00  891.530029  892.280029  890.510010   \n",
       "1948  2022-07-29 15:58:00-04:00  890.739990  890.840027  889.875000   \n",
       "1949  2022-07-29 15:59:00-04:00  890.190125  891.520020  890.169983   \n",
       "1950  2022-07-29 16:00:00-04:00  891.450012  891.450012  891.450012   \n",
       "\n",
       "           Close   Adj Close   Volume  \n",
       "0     813.510010  813.510010  1109730  \n",
       "1     814.750000  814.750000   217451  \n",
       "2     820.659973  820.659973   268608  \n",
       "3     817.505005  817.505005   205037  \n",
       "4     814.409973  814.409973   179416  \n",
       "...          ...         ...      ...  \n",
       "1946  891.484985  891.484985   178085  \n",
       "1947  890.739990  890.739990   233226  \n",
       "1948  890.289978  890.289978   249277  \n",
       "1949  891.469971  891.469971   285609  \n",
       "1950  891.450012  891.450012        0  \n",
       "\n",
       "[1951 rows x 7 columns]"
      ]
     },
     "execution_count": 28,
     "metadata": {},
     "output_type": "execute_result"
    }
   ],
   "source": [
    "tesla_stocks = pd.read_csv('data/tesla_stocks.csv')\n",
    "\n",
    "tesla_stocks"
   ]
  },
  {
   "cell_type": "markdown",
   "id": "ffa2d45d",
   "metadata": {},
   "source": [
    "Convert both the tesla stocks and the date of Elon's tweets to datetime object of the same timezone"
   ]
  },
  {
   "cell_type": "code",
   "execution_count": 29,
   "id": "bbdf337a",
   "metadata": {},
   "outputs": [],
   "source": [
    "tesla_stocks['Datetime'] = pd.to_datetime(tesla_stocks['Datetime']).dt.tz_convert(None)\n",
    "\n",
    "#Change 'Datetime' column name to 'Date'\n",
    "tesla_stocks.columns = tesla_stocks.columns.str.replace('Datetime', 'Date')"
   ]
  },
  {
   "cell_type": "code",
   "execution_count": 30,
   "id": "f4ee4e9c",
   "metadata": {},
   "outputs": [],
   "source": [
    "elon_tweets['Date'] = pd.to_datetime(elon_tweets['Date']).dt.tz_convert(None)"
   ]
  },
  {
   "cell_type": "markdown",
   "id": "ab1ecb5d",
   "metadata": {},
   "source": [
    "But from earlier Elon Tweets DataFrame, the seconds are given whereas the stocks data have no second (time.second) value.   \n",
    "\n",
    "So, we'll be replacing the seconds in elon_tweets['Date'] to 0"
   ]
  },
  {
   "cell_type": "code",
   "execution_count": 31,
   "id": "a83a8aae",
   "metadata": {},
   "outputs": [],
   "source": [
    "elon_tweets['Date'] = elon_tweets['Date'].apply(lambda x: x.replace(second = 0))"
   ]
  },
  {
   "cell_type": "markdown",
   "id": "03026aea",
   "metadata": {},
   "source": [
    "Taking a look at the tesla_stocks DataFrame and the elon_tweets DataFrame after transformation"
   ]
  },
  {
   "cell_type": "code",
   "execution_count": 32,
   "id": "5fcd5c6b",
   "metadata": {},
   "outputs": [
    {
     "data": {
      "text/html": [
       "<div>\n",
       "<style scoped>\n",
       "    .dataframe tbody tr th:only-of-type {\n",
       "        vertical-align: middle;\n",
       "    }\n",
       "\n",
       "    .dataframe tbody tr th {\n",
       "        vertical-align: top;\n",
       "    }\n",
       "\n",
       "    .dataframe thead th {\n",
       "        text-align: right;\n",
       "    }\n",
       "</style>\n",
       "<table border=\"1\" class=\"dataframe\">\n",
       "  <thead>\n",
       "    <tr style=\"text-align: right;\">\n",
       "      <th></th>\n",
       "      <th>Date</th>\n",
       "      <th>Open</th>\n",
       "      <th>High</th>\n",
       "      <th>Low</th>\n",
       "      <th>Close</th>\n",
       "      <th>Adj Close</th>\n",
       "      <th>Volume</th>\n",
       "    </tr>\n",
       "  </thead>\n",
       "  <tbody>\n",
       "    <tr>\n",
       "      <th>0</th>\n",
       "      <td>2022-07-25 13:30:00</td>\n",
       "      <td>816.650024</td>\n",
       "      <td>816.799988</td>\n",
       "      <td>811.262024</td>\n",
       "      <td>813.510010</td>\n",
       "      <td>813.510010</td>\n",
       "      <td>1109730</td>\n",
       "    </tr>\n",
       "    <tr>\n",
       "      <th>1</th>\n",
       "      <td>2022-07-25 13:31:00</td>\n",
       "      <td>813.849976</td>\n",
       "      <td>816.799988</td>\n",
       "      <td>812.849976</td>\n",
       "      <td>814.750000</td>\n",
       "      <td>814.750000</td>\n",
       "      <td>217451</td>\n",
       "    </tr>\n",
       "    <tr>\n",
       "      <th>2</th>\n",
       "      <td>2022-07-25 13:32:00</td>\n",
       "      <td>815.125000</td>\n",
       "      <td>822.440002</td>\n",
       "      <td>814.295593</td>\n",
       "      <td>820.659973</td>\n",
       "      <td>820.659973</td>\n",
       "      <td>268608</td>\n",
       "    </tr>\n",
       "    <tr>\n",
       "      <th>3</th>\n",
       "      <td>2022-07-25 13:33:00</td>\n",
       "      <td>820.594971</td>\n",
       "      <td>820.890015</td>\n",
       "      <td>816.000122</td>\n",
       "      <td>817.505005</td>\n",
       "      <td>817.505005</td>\n",
       "      <td>205037</td>\n",
       "    </tr>\n",
       "    <tr>\n",
       "      <th>4</th>\n",
       "      <td>2022-07-25 13:34:00</td>\n",
       "      <td>817.609985</td>\n",
       "      <td>819.989990</td>\n",
       "      <td>813.306396</td>\n",
       "      <td>814.409973</td>\n",
       "      <td>814.409973</td>\n",
       "      <td>179416</td>\n",
       "    </tr>\n",
       "  </tbody>\n",
       "</table>\n",
       "</div>"
      ],
      "text/plain": [
       "                 Date        Open        High         Low       Close  \\\n",
       "0 2022-07-25 13:30:00  816.650024  816.799988  811.262024  813.510010   \n",
       "1 2022-07-25 13:31:00  813.849976  816.799988  812.849976  814.750000   \n",
       "2 2022-07-25 13:32:00  815.125000  822.440002  814.295593  820.659973   \n",
       "3 2022-07-25 13:33:00  820.594971  820.890015  816.000122  817.505005   \n",
       "4 2022-07-25 13:34:00  817.609985  819.989990  813.306396  814.409973   \n",
       "\n",
       "    Adj Close   Volume  \n",
       "0  813.510010  1109730  \n",
       "1  814.750000   217451  \n",
       "2  820.659973   268608  \n",
       "3  817.505005   205037  \n",
       "4  814.409973   179416  "
      ]
     },
     "execution_count": 32,
     "metadata": {},
     "output_type": "execute_result"
    }
   ],
   "source": [
    "tesla_stocks.head()"
   ]
  },
  {
   "cell_type": "code",
   "execution_count": 33,
   "id": "38aed61f",
   "metadata": {},
   "outputs": [
    {
     "data": {
      "text/html": [
       "<div>\n",
       "<style scoped>\n",
       "    .dataframe tbody tr th:only-of-type {\n",
       "        vertical-align: middle;\n",
       "    }\n",
       "\n",
       "    .dataframe tbody tr th {\n",
       "        vertical-align: top;\n",
       "    }\n",
       "\n",
       "    .dataframe thead th {\n",
       "        text-align: right;\n",
       "    }\n",
       "</style>\n",
       "<table border=\"1\" class=\"dataframe\">\n",
       "  <thead>\n",
       "    <tr style=\"text-align: right;\">\n",
       "      <th></th>\n",
       "      <th>Date</th>\n",
       "      <th>Tweet</th>\n",
       "      <th>BSA_sentiments</th>\n",
       "      <th>vader_sentiments</th>\n",
       "    </tr>\n",
       "  </thead>\n",
       "  <tbody>\n",
       "    <tr>\n",
       "      <th>0</th>\n",
       "      <td>2022-07-31 22:32:00</td>\n",
       "      <td>If reality actually alien soap opera ratings w...</td>\n",
       "      <td>0</td>\n",
       "      <td>0.0000</td>\n",
       "    </tr>\n",
       "    <tr>\n",
       "      <th>1</th>\n",
       "      <td>2022-07-31 14:22:00</td>\n",
       "      <td>Maybe free people jail weed</td>\n",
       "      <td>0</td>\n",
       "      <td>0.5106</td>\n",
       "    </tr>\n",
       "    <tr>\n",
       "      <th>2</th>\n",
       "      <td>2022-07-31 14:11:00</td>\n",
       "      <td>Good thread</td>\n",
       "      <td>1</td>\n",
       "      <td>0.4404</td>\n",
       "    </tr>\n",
       "    <tr>\n",
       "      <th>3</th>\n",
       "      <td>2022-07-31 02:28:00</td>\n",
       "      <td>Sigh</td>\n",
       "      <td>0</td>\n",
       "      <td>0.0258</td>\n",
       "    </tr>\n",
       "    <tr>\n",
       "      <th>4</th>\n",
       "      <td>2022-07-31 02:27:00</td>\n",
       "      <td>Off Races set Harley Quinn</td>\n",
       "      <td>0</td>\n",
       "      <td>0.0000</td>\n",
       "    </tr>\n",
       "  </tbody>\n",
       "</table>\n",
       "</div>"
      ],
      "text/plain": [
       "                 Date                                              Tweet  \\\n",
       "0 2022-07-31 22:32:00  If reality actually alien soap opera ratings w...   \n",
       "1 2022-07-31 14:22:00                        Maybe free people jail weed   \n",
       "2 2022-07-31 14:11:00                                        Good thread   \n",
       "3 2022-07-31 02:28:00                                               Sigh   \n",
       "4 2022-07-31 02:27:00                         Off Races set Harley Quinn   \n",
       "\n",
       "   BSA_sentiments  vader_sentiments  \n",
       "0               0            0.0000  \n",
       "1               0            0.5106  \n",
       "2               1            0.4404  \n",
       "3               0            0.0258  \n",
       "4               0            0.0000  "
      ]
     },
     "execution_count": 33,
     "metadata": {},
     "output_type": "execute_result"
    }
   ],
   "source": [
    "elon_tweets.head()"
   ]
  },
  {
   "cell_type": "markdown",
   "id": "974c80a8",
   "metadata": {},
   "source": [
    " "
   ]
  },
  {
   "cell_type": "markdown",
   "id": "26e268de",
   "metadata": {},
   "source": [
    "> **The intention is to check the stocks at 10 minutes interval after Elon Musk made a particular tweet.**   \n",
    "> **This will help in providing reasonable insights into how his stocks were affected after 10 minutes of him making a particular tweet.**   \n",
    "\n",
    "So, we'll increase the timing and merge the tweet and stocks data at 10 minutes after the tweet was made"
   ]
  },
  {
   "cell_type": "code",
   "execution_count": 34,
   "id": "fbeb3e81",
   "metadata": {},
   "outputs": [],
   "source": [
    "elon_tweets['Date'] = elon_tweets['Date'].apply(lambda x: x + timedelta(minutes = 10))"
   ]
  },
  {
   "cell_type": "markdown",
   "id": "91197af7",
   "metadata": {},
   "source": [
    "To make the workflow easier, we'll be merging the elon_tweets and tesla_stocks DataFrame with the same date, and dropping all the columns from the tesla_stocks except the Adjusted Close which will be used as our stock data value at any point in time because it's the adjusted stock value after accounting for any corporate actions such as stock splits and dividend distributions"
   ]
  },
  {
   "cell_type": "code",
   "execution_count": 35,
   "id": "631c3467",
   "metadata": {},
   "outputs": [
    {
     "data": {
      "text/html": [
       "<div>\n",
       "<style scoped>\n",
       "    .dataframe tbody tr th:only-of-type {\n",
       "        vertical-align: middle;\n",
       "    }\n",
       "\n",
       "    .dataframe tbody tr th {\n",
       "        vertical-align: top;\n",
       "    }\n",
       "\n",
       "    .dataframe thead th {\n",
       "        text-align: right;\n",
       "    }\n",
       "</style>\n",
       "<table border=\"1\" class=\"dataframe\">\n",
       "  <thead>\n",
       "    <tr style=\"text-align: right;\">\n",
       "      <th></th>\n",
       "      <th>Date</th>\n",
       "      <th>Tweet</th>\n",
       "      <th>BSA_sentiments</th>\n",
       "      <th>vader_sentiments</th>\n",
       "      <th>Stock value</th>\n",
       "    </tr>\n",
       "  </thead>\n",
       "  <tbody>\n",
       "    <tr>\n",
       "      <th>0</th>\n",
       "      <td>2022-07-29 15:22:00</td>\n",
       "      <td>Were working super hard isnt ready yet</td>\n",
       "      <td>1</td>\n",
       "      <td>0.3378</td>\n",
       "      <td>859.880005</td>\n",
       "    </tr>\n",
       "    <tr>\n",
       "      <th>1</th>\n",
       "      <td>2022-07-29 15:04:00</td>\n",
       "      <td>Wikipedia losing objectivity</td>\n",
       "      <td>-1</td>\n",
       "      <td>-0.3818</td>\n",
       "      <td>859.440002</td>\n",
       "    </tr>\n",
       "    <tr>\n",
       "      <th>2</th>\n",
       "      <td>2022-07-29 14:56:00</td>\n",
       "      <td>I cant say sure Starship reach escape velocity...</td>\n",
       "      <td>-1</td>\n",
       "      <td>0.3045</td>\n",
       "      <td>863.883728</td>\n",
       "    </tr>\n",
       "    <tr>\n",
       "      <th>3</th>\n",
       "      <td>2022-07-27 16:21:00</td>\n",
       "      <td>Sub lightspeed thats needed interstellar Inter...</td>\n",
       "      <td>1</td>\n",
       "      <td>-0.1280</td>\n",
       "      <td>811.652710</td>\n",
       "    </tr>\n",
       "    <tr>\n",
       "      <th>4</th>\n",
       "      <td>2022-07-27 16:17:00</td>\n",
       "      <td>The media clickseeking machine dressed truthse...</td>\n",
       "      <td>0</td>\n",
       "      <td>0.0000</td>\n",
       "      <td>810.969971</td>\n",
       "    </tr>\n",
       "  </tbody>\n",
       "</table>\n",
       "</div>"
      ],
      "text/plain": [
       "                 Date                                              Tweet  \\\n",
       "0 2022-07-29 15:22:00             Were working super hard isnt ready yet   \n",
       "1 2022-07-29 15:04:00                       Wikipedia losing objectivity   \n",
       "2 2022-07-29 14:56:00  I cant say sure Starship reach escape velocity...   \n",
       "3 2022-07-27 16:21:00  Sub lightspeed thats needed interstellar Inter...   \n",
       "4 2022-07-27 16:17:00  The media clickseeking machine dressed truthse...   \n",
       "\n",
       "   BSA_sentiments  vader_sentiments  Stock value  \n",
       "0               1            0.3378   859.880005  \n",
       "1              -1           -0.3818   859.440002  \n",
       "2              -1            0.3045   863.883728  \n",
       "3               1           -0.1280   811.652710  \n",
       "4               0            0.0000   810.969971  "
      ]
     },
     "execution_count": 35,
     "metadata": {},
     "output_type": "execute_result"
    }
   ],
   "source": [
    "elon_tweets = elon_tweets.merge(tesla_stocks).drop(['Open', 'High', 'Low', 'Close', 'Volume'], axis = 1)\n",
    "\n",
    "#Change 'Adj Close' column name to 'Stock value'\n",
    "elon_tweets.columns = elon_tweets.columns.str.replace('Adj Close', 'Stock value')\n",
    "\n",
    "elon_tweets.head()"
   ]
  },
  {
   "cell_type": "code",
   "execution_count": 36,
   "id": "a5028c96",
   "metadata": {},
   "outputs": [],
   "source": [
    "# Save the tweets_and_stocks data to csv\n",
    "elon_tweets.to_csv('data/elon_tweets_and_stocks.csv')"
   ]
  },
  {
   "cell_type": "markdown",
   "id": "d2ab8139",
   "metadata": {},
   "source": [
    " "
   ]
  },
  {
   "cell_type": "markdown",
   "id": "d4b9f46e",
   "metadata": {},
   "source": [
    "The data is now complete...   \n",
    "\n",
    "## Let's start with visualizing the data and providing analysis from that."
   ]
  },
  {
   "cell_type": "code",
   "execution_count": 37,
   "id": "82bbbbfe",
   "metadata": {},
   "outputs": [],
   "source": [
    "#Let's load the csv file of the tweets_and_stocks data saved from earlier\n",
    "elon_tweets = pd.read_csv('data/elon_tweets_and_stocks.csv')"
   ]
  },
  {
   "cell_type": "markdown",
   "id": "0da0dd8c",
   "metadata": {},
   "source": [
    ">Plotting the Stock Trends from 2022-07-25 to 2022-07-29"
   ]
  },
  {
   "cell_type": "code",
   "execution_count": 38,
   "id": "63c1e8cb",
   "metadata": {},
   "outputs": [],
   "source": [
    "import seaborn as sns\n",
    "sns.set_style(\"whitegrid\")\n",
    "\n",
    "\n",
    "import matplotlib.pyplot as plt\n",
    "\n",
    "import warnings\n",
    "warnings.filterwarnings('ignore')"
   ]
  },
  {
   "cell_type": "code",
   "execution_count": 39,
   "id": "63f7d6e1",
   "metadata": {},
   "outputs": [],
   "source": [
    "#Let's sort the data by the date so we have the data sorted from the 25th to the 29th\n",
    "elon_tweets = elon_tweets.sort_values(by = [\"Date\"], ascending = True)"
   ]
  },
  {
   "cell_type": "code",
   "execution_count": 46,
   "id": "98238802",
   "metadata": {
    "scrolled": false
   },
   "outputs": [
    {
     "data": {
      "image/png": "[encoded data removed]",
      "text/plain": [
       "<Figure size 1440x432 with 1 Axes>"
      ]
     },
     "metadata": {},
     "output_type": "display_data"
    }
   ],
   "source": [
    "#Plot the data\n",
    "plt.figure(figsize = (20, 6))\n",
    "sns.lineplot(x = elon_tweets['Date'], y = elon_tweets[\"Stock value\"])\n",
    "\n",
    "plt.title(\"Tesla's Stock Trend\", weight = \"bold\", fontsize = 20, pad = 15)\n",
    "\n",
    "plt.xlabel(\"Date\", labelpad = 15, weight = \"bold\", fontsize = 13)\n",
    "plt.ylabel(\"Stock Value\", labelpad = 15, weight = \"bold\", fontsize = 13)\n",
    "\n",
    "plt.xticks(rotation = 35);   #Rotate the xticks so the date values can be more readable"
   ]
  },
  {
   "cell_type": "markdown",
   "id": "fa66047d",
   "metadata": {},
   "source": [
    ">This gives us a visual view of the stocks of how it falls, rises and stabilizes over time.   \n",
    "\n",
    "### Let's now plot the sentiments of Elon's tweet against the trend of the stocks."
   ]
  },
  {
   "cell_type": "markdown",
   "id": "0d5f5459",
   "metadata": {},
   "source": [
    ">But before that, let's just have a visual look at the sentiments; the BSA and the Vader sentiments."
   ]
  },
  {
   "cell_type": "code",
   "execution_count": 50,
   "id": "fe5f95df",
   "metadata": {},
   "outputs": [],
   "source": [
    "#Let's start with getting the amount of unique values we have per the analyzer used. This is to get a feel of the most populous sentiment of Elon's tweets.\n",
    "bsa_values_sorted_by_amount = elon_tweets.BSA_sentiments.value_counts()\n",
    "vader_values_sorted_by_amount = elon_tweets.vader_sentiments.value_counts()"
   ]
  },
  {
   "cell_type": "code",
   "execution_count": 91,
   "id": "de74cb11",
   "metadata": {},
   "outputs": [
    {
     "data": {
      "image/png": "[encoded data removed]",
      "text/plain": [
       "<Figure size 1800x504 with 2 Axes>"
      ]
     },
     "metadata": {},
     "output_type": "display_data"
    }
   ],
   "source": [
    "fig, ax = plt.subplots(1, 2, figsize = (25, 7))\n",
    "\n",
    "#Plot the countplot of the unique values and set title\n",
    "sns.countplot(elon_tweets[\"BSA_sentiments\"], color = sns.color_palette()[0], order = bsa_values_sorted_by_amount.index, ax = ax[0])\n",
    "\n",
    "#Set title and labels\n",
    "ax[0].set_title(\"Amount of BSA_sentiments unique scores\", weight = \"bold\", fontsize = 18, pad = 15)\n",
    "ax[0].set_xlabel('BSA_sentiment score', fontsize = 14, labelpad = 10)\n",
    "ax[0].set_ylabel('Sentiment counts', fontsize = 15, labelpad = 10)\n",
    "\n",
    "#Plot the countplot of the unique values and set title\n",
    "sns.countplot(elon_tweets[\"vader_sentiments\"], color = sns.color_palette()[0], order = vader_values_sorted_by_amount.index, ax = ax[1])\n",
    "\n",
    "#Set title and labels\n",
    "ax[1].set_title(\"Amount of Vader_Sentiments unique scores\", weight = \"bold\", fontsize = 18, pad = 15)\n",
    "ax[1].set_xlabel('Vader_Sentiment score', fontsize = 14, labelpad = 10)\n",
    "ax[1].set_ylabel('Sentiment counts', fontsize = 15, labelpad = 10);"
   ]
  },
  {
   "cell_type": "markdown",
   "id": "2c855e9d",
   "metadata": {},
   "source": [
    "From the graphs of both sentiment analyzers, it's observed that the most number of values are for sentiment score of 0, meaning most of his tweets for the period analyzed are more of neutral sentiments.\n",
    "> For the BSA_sentiment analyzer, 0 is Neutral, 1 is Positive and any number below 0 signifies a Negative Sentiment.   \n",
    "For the Vader_sentiment analyzer, 0 is Neutral, any number greater than 0.2 is Positive and any other number less than -0.2 signifies a Negative Sentiment."
   ]
  },
  {
   "cell_type": "markdown",
   "id": "8ced657c",
   "metadata": {},
   "source": [
    "#### Plot of the Vader_sentiment scores against the stocks over a period of time"
   ]
  },
  {
   "cell_type": "code",
   "execution_count": 137,
   "id": "cc5d8e73",
   "metadata": {},
   "outputs": [
    {
     "data": {
      "image/png": "[encoded data removed]",
      "text/plain": [
       "<Figure size 1440x432 with 2 Axes>"
      ]
     },
     "metadata": {},
     "output_type": "display_data"
    }
   ],
   "source": [
    "fig, ax = plt.subplots(figsize = (20, 6))\n",
    "\n",
    "#Plot the stocks data over the date period\n",
    "ax.plot(elon_tweets.Date, elon_tweets[\"Stock value\"], color = \"red\", label = \"Stocks\")\n",
    "plt.xticks(rotation=35)\n",
    "\n",
    "#Set title and label\n",
    "ax.set_title(\"Plot of Vader_Sentiment scores against Tesla's Stocks over a specified period of time\", weight = \"bold\", fontsize = 20, pad = 15)\n",
    "ax.set_xlabel(\"Date\", fontsize = 18, weight = \"bold\", labelpad = 15)\n",
    "ax.set_ylabel(\"Stocks\", color = 'r', fontsize = 18, weight = \"bold\", labelpad = 15)\n",
    "\n",
    "#Overlay the Vader_sentiment scores plot on the stocks plot\n",
    "vader_date_ax = ax.twinx()   \n",
    "#Create a twin axes sharing the x axis and plot the sentiments versus the dates\n",
    "\n",
    "vader_date_ax.plot(elon_tweets.Date, elon_tweets[\"vader_sentiments\"], color = \"blue\", label = \"Vader_Sentiment\")\n",
    "vader_date_ax.set_ylabel(\"Vader Sentiment score\", color = 'b', fontsize = 18, weight = \"bold\", labelpad = 15)\n",
    "\n",
    "#Set the legend to describe both plots\n",
    "fig.legend(loc = 'upper left', bbox_to_anchor = (0 , 1), bbox_transform=ax.transAxes);"
   ]
  },
  {
   "cell_type": "markdown",
   "id": "7e36472f",
   "metadata": {},
   "source": [
    "From the graph above where we have the \n",
    "- Date column on the x axis, \n",
    "- the Stocks on the left-y axis and \n",
    "- the Vader Sentiment score on the right-y axis.\n",
    "\n",
    "A basic look at the graph shows that the the Vader sentiment scores very well resembles the trend of the stock to a reasonable level such that to a degree, if the sentiment is high or low, the stocks also to an extent, rises or falls in line.   \n",
    "\n",
    "A quite deeper look show that \n",
    "- at the most points of the plot, Elon making a neutral or slightly-positive tweet causes a slight decline in the stocks\n",
    "- and when the tweet is very negative, the stocks drops very sharply\n",
    "- and also when the tweet is considered very positive, the stock rises to a considerable higher level.\n",
    "\n",
    "**This shows that to a very large extent, there's a correlation between Elon's tweets and the rise of fall of Tesla's stocks**. Let's confirm our inference by checking out the graph of the BSA_sentiment scores against the stocks."
   ]
  },
  {
   "cell_type": "markdown",
   "id": "2f748ebb",
   "metadata": {},
   "source": [
    " "
   ]
  },
  {
   "cell_type": "markdown",
   "id": "2057b660",
   "metadata": {},
   "source": [
    "#### Plot of the BSA_sentiment scores against the stocks over a period of time"
   ]
  },
  {
   "cell_type": "code",
   "execution_count": 139,
   "id": "7707f72f",
   "metadata": {},
   "outputs": [
    {
     "data": {
      "image/png": "[encoded data removed]",
      "text/plain": [
       "<Figure size 1440x432 with 2 Axes>"
      ]
     },
     "metadata": {},
     "output_type": "display_data"
    }
   ],
   "source": [
    "fig, ax = plt.subplots(figsize = (20, 6))\n",
    "\n",
    "#Plot the stocks data over the date period\n",
    "ax.plot(elon_tweets.Date, elon_tweets[\"Stock value\"], color = \"red\", label = \"Stocks\")\n",
    "plt.xticks(rotation=35)\n",
    "\n",
    "#Set title and label\n",
    "ax.set_title(\"Plot of BSA_Sentiment scores against Tesla's Stocks over a specified period of time\", weight = \"bold\", fontsize = 20, pad = 15)\n",
    "ax.set_xlabel(\"Date\", fontsize = 18, weight = \"bold\", labelpad = 15)\n",
    "ax.set_ylabel(\"Stocks\", color = 'r', fontsize = 18, weight = \"bold\", labelpad = 15)\n",
    "\n",
    "#Overlay the BSA_sentiment scores plot on the stocks plot\n",
    "bsa_date_ax = ax.twinx()   \n",
    "#Create a twin axes sharing the x axis and plot the sentiments versus the dates\n",
    "\n",
    "bsa_date_ax.plot(elon_tweets.Date, elon_tweets[\"BSA_sentiments\"], color = \"blue\", label = \"BSA_Sentiment\")\n",
    "bsa_date_ax.set_ylabel(\"BSA Sentiment score\", color = 'b', fontsize = 18, weight = \"bold\", labelpad = 15)\n",
    "\n",
    "#Set the legend to describe both plots\n",
    "fig.legend(loc = 'upper left', bbox_to_anchor = (0 , 1), bbox_transform=ax.transAxes);"
   ]
  },
  {
   "cell_type": "markdown",
   "id": "22419cd0",
   "metadata": {},
   "source": [
    "From the graph above where we have the \n",
    "- Date column on the x axis, \n",
    "- the Stocks on the left-y axis and \n",
    "- the BSA Sentiment score on the right-y axis.\n",
    "\n",
    "A basic look at the graph shows that the the BSA sentiment scores to an extent also resembles the trend of the stock to a reasonable level such that to a degree, if the sentiment is high or low, the stocks also to an extent, rises or falls in line.   \n",
    "\n",
    "A quite deeper look show that \n",
    "- at the most points of the plot, Elon making a positive or neutral tweet causes a very slight change in the stocks, but the stocks still maintain a balance in this case\n",
    "- and when the tweet is very negative, the stocks drops very sharply\n",
    "- and also when the tweet over time moves from (Neutral or Positive) to Negative or vice versa, there's a considerable change in the stocks level. The only exception been when the tweets maintain its sentiment from Neutral to Positive for example. Any other big change in the sentiments of the tweet cause a change in the stocks.\n",
    "\n",
    "**This also confirms our earlier inference that to a very large extent, there's a correlation between Elon's tweets and the rise of fall of Tesla's stocks**."
   ]
  },
  {
   "cell_type": "markdown",
   "id": "f9e2fb15",
   "metadata": {},
   "source": [
    " "
   ]
  },
  {
   "cell_type": "markdown",
   "id": "6fd3d6a1",
   "metadata": {},
   "source": [
    " "
   ]
  },
  {
   "cell_type": "markdown",
   "id": "04b17fa3",
   "metadata": {},
   "source": [
    "# Conclusion\n",
    "\n",
    "From the analysis and graphs produced above, it can be inferred that there's a general relationship between the tweets and the Stocks.  \n",
    "This proves that the sentiment of tweets can be considered a determining factor to the trend of a stock; be it positive or negative.\n",
    "\n",
    "One thing to note is that there are several factors that causes stocks to rise or fall but from this analysis, we can infer that the tweets of the company owner is among these factors.\n",
    "\n",
    "The analysis can very much be improved by working with a longer daterange such as a year, two or more. This will provide more insights and provide more details that the week data doesn't cover due to the restriction of the stocks API."
   ]
  },
  {
   "cell_type": "markdown",
   "id": "f263fb8b",
   "metadata": {},
   "source": [
    " "
   ]
  },
  {
   "cell_type": "markdown",
   "id": "acef3a08",
   "metadata": {},
   "source": [
    " "
   ]
  }
 ],
 "metadata": {
  "kernelspec": {
   "display_name": "Python 3 (ipykernel)",
   "language": "python",
   "name": "python3"
  },
  "language_info": {
   "codemirror_mode": {
    "name": "ipython",
    "version": 3
   },
   "file_extension": ".py",
   "mimetype": "text/x-python",
   "name": "python",
   "nbconvert_exporter": "python",
   "pygments_lexer": "ipython3",
   "version": "3.9.12"
  }
 },
 "nbformat": 4,
 "nbformat_minor": 5
}
